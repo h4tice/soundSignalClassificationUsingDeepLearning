{
  "cells": [
    {
      "cell_type": "code",
      "execution_count": null,
      "id": "66d3b3ea",
      "metadata": {
        "id": "66d3b3ea"
      },
      "outputs": [],
      "source": [
        "import tensorflow as tf\n",
        "print(tf.__version__)"
      ]
    },
    {
      "cell_type": "code",
      "execution_count": null,
      "id": "da3c9183",
      "metadata": {
        "id": "da3c9183"
      },
      "outputs": [],
      "source": [
        "import matplotlib.pyplot as plt\n",
        "import pandas as pd\n",
        "import os\n",
        "import librosa\n",
        "import numpy as np\n",
        "from tqdm import tqdm\n",
        "from sklearn.model_selection import train_test_split\n",
        "from tensorflow.keras.utils import to_categorical\n",
        "from sklearn.preprocessing import LabelEncoder\n",
        "from tensorflow.keras.models import Sequential\n",
        "from tensorflow.keras.layers import Dense,Dropout,Activation,Flatten\n",
        "from tensorflow.keras.optimizers import Adam\n",
        "from sklearn import metrics\n",
        "from tensorflow.keras.callbacks import ModelCheckpoint\n",
        "from datetime import datetime\n",
        "\n"
      ]
    },
    {
      "cell_type": "code",
      "execution_count": null,
      "id": "6f91f791",
      "metadata": {
        "id": "6f91f791"
      },
      "outputs": [],
      "source": [
        "\n",
        "#  read an example audio signal using librosa\n",
        "audio_file_path='UrbanSound8K/17973-2-0-32.wav'\n",
        "\n",
        "librosa_audio_data, librosa_sample_rate = librosa.load(audio_file_path)"
      ]
    },
    {
      "cell_type": "code",
      "execution_count": null,
      "id": "c6b7e4d3",
      "metadata": {
        "id": "c6b7e4d3"
      },
      "outputs": [],
      "source": [
        "print(librosa_audio_data)"
      ]
    },
    {
      "cell_type": "code",
      "execution_count": null,
      "id": "01ecee3f",
      "metadata": {
        "id": "01ecee3f"
      },
      "outputs": [],
      "source": [
        "plt.figure(figsize=(12, 4))\n",
        "plt.plot(librosa_audio_data)\n",
        "plt.show()"
      ]
    },
    {
      "cell_type": "code",
      "execution_count": null,
      "id": "770dda11",
      "metadata": {
        "id": "770dda11"
      },
      "outputs": [],
      "source": [
        "# read with scipy\n",
        "from scipy.io import wavfile as wav\n",
        "wave_sample_rate, wave_audio = wav.read(audio_file_path)"
      ]
    },
    {
      "cell_type": "code",
      "execution_count": null,
      "id": "fd401b8b",
      "metadata": {
        "id": "fd401b8b"
      },
      "outputs": [],
      "source": [
        "wave_audio"
      ]
    },
    {
      "cell_type": "code",
      "execution_count": null,
      "id": "e872ef4d",
      "metadata": {
        "id": "e872ef4d"
      },
      "outputs": [],
      "source": [
        "# Original audio with 2 channels\n",
        "plt.figure(figsize=(12, 4))\n",
        "plt.plot(wave_audio)\n",
        "plt.show()"
      ]
    },
    {
      "cell_type": "code",
      "execution_count": null,
      "id": "dfba4c4b",
      "metadata": {
        "id": "dfba4c4b"
      },
      "outputs": [],
      "source": [
        "mfccs = librosa.feature.mfcc(y=librosa_audio_data, sr=librosa_sample_rate, n_mfcc=40)   #n_mfcc: number of MFCCs to return\n",
        "print(mfccs.shape)"
      ]
    },
    {
      "cell_type": "code",
      "execution_count": null,
      "id": "b0fa3941",
      "metadata": {
        "id": "b0fa3941"
      },
      "outputs": [],
      "source": [
        "mfccs"
      ]
    },
    {
      "cell_type": "code",
      "execution_count": null,
      "id": "8a35274d",
      "metadata": {
        "id": "8a35274d"
      },
      "outputs": [],
      "source": [
        "audio_dataset_path='UrbanSound8K/audio/'\n",
        "metadata=pd.read_csv('UrbanSound8K/metadata/UrbanSound8K.csv')\n",
        "metadata.head()"
      ]
    },
    {
      "cell_type": "code",
      "execution_count": null,
      "id": "8efaa10b",
      "metadata": {
        "id": "8efaa10b"
      },
      "outputs": [],
      "source": [
        "def features_extractor(filename):\n",
        "    audio, sample_rate = librosa.load(filename, res_type='kaiser_fast')\n",
        "    mfccs_features = librosa.feature.mfcc(y=audio, sr=sample_rate, n_mfcc=40)\n",
        "    mfccs_scaled_features = np.mean(mfccs_features.T,axis=0)\n",
        "\n",
        "    return mfccs_scaled_features"
      ]
    },
    {
      "cell_type": "code",
      "execution_count": null,
      "id": "a2a6d62d",
      "metadata": {
        "id": "a2a6d62d"
      },
      "outputs": [],
      "source": [
        "\n",
        "# using Mel-Frequency Cepstral Coefficients\n",
        "extracted_features=[]\n",
        "for index_num,row in tqdm(metadata.iterrows()):\n",
        "    file_name = os.path.join(os.path.abspath(audio_dataset_path),'fold'+str(row[\"fold\"])+'/',str(row[\"slice_file_name\"]))\n",
        "    final_class_labels=row[\"class\"]\n",
        "    data=features_extractor(file_name)\n",
        "    extracted_features.append([data,final_class_labels])"
      ]
    },
    {
      "cell_type": "code",
      "execution_count": null,
      "id": "f3bd7b05",
      "metadata": {
        "id": "f3bd7b05"
      },
      "outputs": [],
      "source": [
        "\n",
        "extracted_features_df = pd.DataFrame(extracted_features,columns=['feature','class'])\n",
        "extracted_features_df.head()"
      ]
    },
    {
      "cell_type": "code",
      "execution_count": null,
      "id": "56f07897",
      "metadata": {
        "id": "56f07897"
      },
      "outputs": [],
      "source": [
        "\n",
        "X=np.array(extracted_features_df['feature'].tolist())\n",
        "y=np.array(extracted_features_df['class'].tolist())"
      ]
    },
    {
      "cell_type": "code",
      "execution_count": null,
      "id": "d9f3e528",
      "metadata": {
        "id": "d9f3e528"
      },
      "outputs": [],
      "source": [
        "X.shape"
      ]
    },
    {
      "cell_type": "code",
      "execution_count": null,
      "id": "5dd605ac",
      "metadata": {
        "id": "5dd605ac"
      },
      "outputs": [],
      "source": [
        "X"
      ]
    },
    {
      "cell_type": "code",
      "execution_count": null,
      "id": "3bd5509b",
      "metadata": {
        "id": "3bd5509b"
      },
      "outputs": [],
      "source": [
        "y"
      ]
    },
    {
      "cell_type": "code",
      "execution_count": null,
      "id": "27b77c21",
      "metadata": {
        "id": "27b77c21"
      },
      "outputs": [],
      "source": [
        "y.shape"
      ]
    },
    {
      "cell_type": "code",
      "execution_count": null,
      "id": "a936cc52",
      "metadata": {
        "id": "a936cc52"
      },
      "outputs": [],
      "source": [
        "labelencoder=LabelEncoder()\n",
        "y=to_categorical(labelencoder.fit_transform(y))"
      ]
    },
    {
      "cell_type": "code",
      "execution_count": null,
      "id": "2eb6e0bd",
      "metadata": {
        "id": "2eb6e0bd"
      },
      "outputs": [],
      "source": [
        "y"
      ]
    },
    {
      "cell_type": "code",
      "execution_count": null,
      "id": "f3e888a1",
      "metadata": {
        "id": "f3e888a1"
      },
      "outputs": [],
      "source": [
        "y[0]"
      ]
    },
    {
      "cell_type": "code",
      "execution_count": null,
      "id": "bd5af694",
      "metadata": {
        "id": "bd5af694"
      },
      "outputs": [],
      "source": [
        "# split dataset as Train and Test\n",
        "\n",
        "X_train,X_test,y_train,y_test=train_test_split(X,y,test_size=0.2,random_state=0)"
      ]
    },
    {
      "cell_type": "code",
      "execution_count": null,
      "id": "7b6e2519",
      "metadata": {
        "id": "7b6e2519"
      },
      "outputs": [],
      "source": [
        "\n",
        "X_train"
      ]
    },
    {
      "cell_type": "code",
      "execution_count": null,
      "id": "eb306c80",
      "metadata": {
        "id": "eb306c80"
      },
      "outputs": [],
      "source": [
        "y"
      ]
    },
    {
      "cell_type": "code",
      "execution_count": null,
      "id": "08922fd0",
      "metadata": {
        "id": "08922fd0"
      },
      "outputs": [],
      "source": [
        "X_train.shape"
      ]
    },
    {
      "cell_type": "code",
      "execution_count": null,
      "id": "87e24947",
      "metadata": {
        "id": "87e24947"
      },
      "outputs": [],
      "source": [
        "X_test.shape"
      ]
    },
    {
      "cell_type": "code",
      "execution_count": null,
      "id": "59f90202",
      "metadata": {
        "id": "59f90202"
      },
      "outputs": [],
      "source": [
        "y_train.shape"
      ]
    },
    {
      "cell_type": "code",
      "execution_count": null,
      "id": "041361f1",
      "metadata": {
        "id": "041361f1"
      },
      "outputs": [],
      "source": [
        "y_test.shape"
      ]
    },
    {
      "cell_type": "code",
      "execution_count": null,
      "id": "3211fd76",
      "metadata": {
        "id": "3211fd76"
      },
      "outputs": [],
      "source": [
        "# How many classes we have? We should  use it in ourm model\n",
        "num_labels = 10"
      ]
    },
    {
      "cell_type": "code",
      "execution_count": null,
      "id": "0e6121a6",
      "metadata": {
        "id": "0e6121a6"
      },
      "outputs": [],
      "source": [
        "#start building our CNN model..\n",
        "\n",
        "model=Sequential()\n",
        "# 1. hidden layer\n",
        "model.add(Dense(125,input_shape=(40,)))\n",
        "model.add(Activation('relu'))\n",
        "model.add(Dropout(0.5))\n",
        "# 2. hidden layer\n",
        "model.add(Dense(250))\n",
        "model.add(Activation('relu'))\n",
        "model.add(Dropout(0.5))\n",
        "# 3. hidden layer\n",
        "model.add(Dense(125))\n",
        "model.add(Activation('relu'))\n",
        "model.add(Dropout(0.5))\n",
        "\n",
        "# output layer\n",
        "model.add(Dense(num_labels))\n",
        "model.add(Activation('softmax'))"
      ]
    },
    {
      "cell_type": "code",
      "execution_count": null,
      "id": "94f3fff5",
      "metadata": {
        "id": "94f3fff5"
      },
      "outputs": [],
      "source": [
        "model.summary()"
      ]
    },
    {
      "cell_type": "code",
      "execution_count": null,
      "id": "60f68f0b",
      "metadata": {
        "id": "60f68f0b"
      },
      "outputs": [],
      "source": [
        "model.compile(loss='categorical_crossentropy', metrics=['accuracy'], optimizer='adam')"
      ]
    },
    {
      "cell_type": "code",
      "execution_count": null,
      "id": "50f8ec54",
      "metadata": {
        "id": "50f8ec54"
      },
      "outputs": [],
      "source": [
        "# Trianing the model\n",
        "\n",
        "epochscount = 300\n",
        "num_batch_size = 32\n",
        "\n",
        "model.fit(X_train, y_train, batch_size=num_batch_size, epochs=epochscount, validation_data=(X_test, y_test), verbose=1)\n"
      ]
    },
    {
      "cell_type": "code",
      "execution_count": null,
      "id": "2f621887",
      "metadata": {
        "id": "2f621887"
      },
      "outputs": [],
      "source": [
        "validation_test_set_accuracy = model.evaluate(X_test,y_test,verbose=0)\n",
        "print(validation_test_set_accuracy[1])"
      ]
    },
    {
      "cell_type": "code",
      "execution_count": null,
      "id": "3a56f185",
      "metadata": {
        "id": "3a56f185"
      },
      "outputs": [],
      "source": [
        "X_test[1]"
      ]
    },
    {
      "cell_type": "code",
      "execution_count": null,
      "id": "b1834186",
      "metadata": {
        "id": "b1834186"
      },
      "outputs": [],
      "source": [
        "model.predict_classes(X_test)"
      ]
    },
    {
      "cell_type": "code",
      "execution_count": null,
      "id": "a4dfe778",
      "metadata": {
        "id": "a4dfe778"
      },
      "outputs": [],
      "source": [
        "filename=\"UrbanSound8K/PoliceSiren.wav\"\n",
        "sound_signal, sample_rate = librosa.load(filename, res_type='kaiser_fast')\n",
        "mfccs_features = librosa.feature.mfcc(y=sound_signal, sr=sample_rate, n_mfcc=40)\n",
        "mfccs_scaled_features = np.mean(mfccs_features.T,axis=0)"
      ]
    },
    {
      "cell_type": "code",
      "execution_count": null,
      "id": "87eb8726",
      "metadata": {
        "id": "87eb8726"
      },
      "outputs": [],
      "source": [
        "print(mfccs_scaled_features)"
      ]
    },
    {
      "cell_type": "code",
      "execution_count": null,
      "id": "09074f70",
      "metadata": {
        "id": "09074f70"
      },
      "outputs": [],
      "source": [
        "mfccs_scaled_features = mfccs_scaled_features.reshape(1,-1)"
      ]
    },
    {
      "cell_type": "code",
      "execution_count": null,
      "id": "7699cb07",
      "metadata": {
        "id": "7699cb07"
      },
      "outputs": [],
      "source": [
        "mfccs_scaled_features.shape"
      ]
    },
    {
      "cell_type": "code",
      "execution_count": null,
      "id": "4b5df793",
      "metadata": {
        "id": "4b5df793"
      },
      "outputs": [],
      "source": [
        "print(mfccs_scaled_features)"
      ]
    },
    {
      "cell_type": "code",
      "execution_count": null,
      "id": "049ea1d2",
      "metadata": {
        "id": "049ea1d2"
      },
      "outputs": [],
      "source": [
        "print(mfccs_scaled_features.shape)"
      ]
    },
    {
      "cell_type": "code",
      "execution_count": null,
      "id": "66607a36",
      "metadata": {
        "id": "66607a36"
      },
      "outputs": [],
      "source": [
        "result_array = model.predict(mfccs_scaled_features)"
      ]
    },
    {
      "cell_type": "code",
      "execution_count": null,
      "id": "9435c824",
      "metadata": {
        "id": "9435c824"
      },
      "outputs": [],
      "source": [
        "result_array"
      ]
    },
    {
      "cell_type": "code",
      "execution_count": null,
      "id": "9b9b8a1e",
      "metadata": {
        "id": "9b9b8a1e"
      },
      "outputs": [],
      "source": [
        "result_classes = [\"air_conditioner\",\"car_horn\",\"children_playing\",\"dog_bark\",\"drilling\", \"engine_idling\", \"gun_shot\", \"jackhammer\", \"siren\", \"street_music\"]\n",
        "\n",
        "result = np.argmax(result_array[0])\n",
        "print(result_classes[result])"
      ]
    },
    {
      "cell_type": "code",
      "execution_count": null,
      "id": "b3e673a4",
      "metadata": {
        "id": "b3e673a4"
      },
      "outputs": [],
      "source": []
    },
    {
      "cell_type": "code",
      "execution_count": null,
      "id": "2a9efe3d",
      "metadata": {
        "id": "2a9efe3d"
      },
      "outputs": [],
      "source": []
    },
    {
      "cell_type": "code",
      "execution_count": null,
      "id": "df6688bb",
      "metadata": {
        "id": "df6688bb"
      },
      "outputs": [],
      "source": []
    },
    {
      "cell_type": "code",
      "execution_count": null,
      "id": "77dda0b0",
      "metadata": {
        "id": "77dda0b0"
      },
      "outputs": [],
      "source": []
    },
    {
      "cell_type": "code",
      "execution_count": null,
      "id": "c10a8549",
      "metadata": {
        "id": "c10a8549"
      },
      "outputs": [],
      "source": []
    },
    {
      "cell_type": "code",
      "execution_count": null,
      "id": "48aa8ed1",
      "metadata": {
        "id": "48aa8ed1"
      },
      "outputs": [],
      "source": []
    },
    {
      "cell_type": "code",
      "execution_count": null,
      "id": "5644131e",
      "metadata": {
        "id": "5644131e"
      },
      "outputs": [],
      "source": []
    },
    {
      "cell_type": "code",
      "execution_count": null,
      "id": "0979f252",
      "metadata": {
        "id": "0979f252"
      },
      "outputs": [],
      "source": []
    },
    {
      "cell_type": "code",
      "execution_count": null,
      "id": "480c6576",
      "metadata": {
        "id": "480c6576"
      },
      "outputs": [],
      "source": []
    },
    {
      "cell_type": "code",
      "execution_count": null,
      "id": "9fce28d8",
      "metadata": {
        "id": "9fce28d8"
      },
      "outputs": [],
      "source": []
    }
  ],
  "metadata": {
    "kernelspec": {
      "display_name": "Python 3",
      "language": "python",
      "name": "python3"
    },
    "language_info": {
      "codemirror_mode": {
        "name": "ipython",
        "version": 3
      },
      "file_extension": ".py",
      "mimetype": "text/x-python",
      "name": "python",
      "nbconvert_exporter": "python",
      "pygments_lexer": "ipython3",
      "version": "3.8.8"
    },
    "colab": {
      "provenance": []
    }
  },
  "nbformat": 4,
  "nbformat_minor": 5
}